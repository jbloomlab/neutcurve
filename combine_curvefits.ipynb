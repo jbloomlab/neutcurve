{
 "cells": [
  {
   "cell_type": "markdown",
   "metadata": {},
   "source": [
    "# Combining `CurveFits` objects\n",
    "\n",
    "We can also combine together `CurveFits` objects for distinct serum/viruses/replicates using the `CurveFits.combineCurveFits` method.\n",
    "This is useful if you are fitting large datasets in chunks, and then want to combine all the results.\n",
    "\n",
    "Here is an example/test:"
   ]
  },
  {
   "cell_type": "code",
   "execution_count": 1,
   "metadata": {
    "execution": {
     "iopub.execute_input": "2023-12-13T22:23:18.563770Z",
     "iopub.status.busy": "2023-12-13T22:23:18.563475Z",
     "iopub.status.idle": "2023-12-13T22:23:20.528422Z",
     "shell.execute_reply": "2023-12-13T22:23:20.527054Z",
     "shell.execute_reply.started": "2023-12-13T22:23:18.563739Z"
    }
   },
   "outputs": [],
   "source": [
    "import pandas as pd\n",
    "\n",
    "import neutcurve"
   ]
  },
  {
   "cell_type": "markdown",
   "metadata": {},
   "source": [
    "Read in the data:"
   ]
  },
  {
   "cell_type": "code",
   "execution_count": 2,
   "metadata": {
    "execution": {
     "iopub.execute_input": "2023-12-13T22:23:20.537617Z",
     "iopub.status.busy": "2023-12-13T22:23:20.537206Z",
     "iopub.status.idle": "2023-12-13T22:23:20.546183Z",
     "shell.execute_reply": "2023-12-13T22:23:20.545224Z",
     "shell.execute_reply.started": "2023-12-13T22:23:20.537585Z"
    }
   },
   "outputs": [],
   "source": [
    "fi6v3_datafile = \"Doud_et_al_2018-neutdata.csv\"\n",
    "data = pd.read_csv(fi6v3_datafile)"
   ]
  },
  {
   "cell_type": "markdown",
   "metadata": {},
   "source": [
    "Create a `CurveFits` object with all the data:"
   ]
  },
  {
   "cell_type": "code",
   "execution_count": 3,
   "metadata": {
    "execution": {
     "iopub.execute_input": "2023-12-13T22:23:20.550240Z",
     "iopub.status.busy": "2023-12-13T22:23:20.549869Z",
     "iopub.status.idle": "2023-12-13T22:23:20.852757Z",
     "shell.execute_reply": "2023-12-13T22:23:20.851679Z",
     "shell.execute_reply.started": "2023-12-13T22:23:20.550215Z"
    },
    "tags": []
   },
   "outputs": [
    {
     "name": "stderr",
     "output_type": "stream",
     "text": [
      "/home/jbloom/neutcurve/neutcurve/hillcurve.py:738: RuntimeWarning: invalid value encountered in power\n",
      "  return b + (t - b) / (1 + (c / m) ** s)\n"
     ]
    }
   ],
   "source": [
    "fits = neutcurve.CurveFits(data)\n",
    "_ = fits.fitParams(average_only=False)"
   ]
  },
  {
   "cell_type": "markdown",
   "metadata": {},
   "source": [
    "Now split the data to make different `CurveFits` which we can combine:"
   ]
  },
  {
   "cell_type": "code",
   "execution_count": 4,
   "metadata": {
    "execution": {
     "iopub.execute_input": "2023-12-13T22:23:20.856943Z",
     "iopub.status.busy": "2023-12-13T22:23:20.856706Z",
     "iopub.status.idle": "2023-12-13T22:23:21.378382Z",
     "shell.execute_reply": "2023-12-13T22:23:21.377240Z",
     "shell.execute_reply.started": "2023-12-13T22:23:20.856918Z"
    },
    "tags": []
   },
   "outputs": [
    {
     "name": "stderr",
     "output_type": "stream",
     "text": [
      "/home/jbloom/neutcurve/neutcurve/hillcurve.py:738: RuntimeWarning: invalid value encountered in power\n",
      "  return b + (t - b) / (1 + (c / m) ** s)\n",
      "/home/jbloom/neutcurve/neutcurve/hillcurve.py:738: RuntimeWarning: invalid value encountered in power\n",
      "  return b + (t - b) / (1 + (c / m) ** s)\n"
     ]
    }
   ],
   "source": [
    "# split the data in half\n",
    "data1 = data[(data[\"replicate\"] == 1) | (data[\"serum\"] == \"H17-L19\")]\n",
    "data2 = data[(data[\"replicate\"] != 1) & (data[\"serum\"] != \"H17-L19\")]\n",
    "\n",
    "# make a second split that is **not** disjoint from the first one\n",
    "data2_invalid = data[data[\"replicate\"] != 1]\n",
    "\n",
    "# make fits to each of these\n",
    "fit1 = neutcurve.CurveFits(data1)\n",
    "_ = fit1.fitParams(average_only=False)\n",
    "fit2 = neutcurve.CurveFits(data2)\n",
    "_ = fit2.fitParams(average_only=False)\n",
    "fit2_invalid = neutcurve.CurveFits(data2_invalid)\n",
    "_ = fit2_invalid.fitParams(average_only=False)"
   ]
  },
  {
   "cell_type": "markdown",
   "metadata": {},
   "source": [
    "Combine two fits using `CurveFits.combineCurveFits` that should yield an object the same as `fits`:"
   ]
  },
  {
   "cell_type": "code",
   "execution_count": 5,
   "metadata": {
    "execution": {
     "iopub.execute_input": "2023-12-13T22:23:21.382761Z",
     "iopub.status.busy": "2023-12-13T22:23:21.382532Z",
     "iopub.status.idle": "2023-12-13T22:23:21.466523Z",
     "shell.execute_reply": "2023-12-13T22:23:21.465608Z",
     "shell.execute_reply.started": "2023-12-13T22:23:21.382737Z"
    },
    "tags": []
   },
   "outputs": [
    {
     "name": "stderr",
     "output_type": "stream",
     "text": [
      "/home/jbloom/neutcurve/neutcurve/hillcurve.py:738: RuntimeWarning: invalid value encountered in power\n",
      "  return b + (t - b) / (1 + (c / m) ** s)\n"
     ]
    }
   ],
   "source": [
    "combined_fits = neutcurve.CurveFits.combineCurveFits([fit1, fit2])\n",
    "\n",
    "pd.testing.assert_frame_equal(\n",
    "    fits.fitParams(average_only=False),\n",
    "    combined_fits.fitParams(average_only=False),\n",
    ")"
   ]
  },
  {
   "cell_type": "markdown",
   "metadata": {},
   "source": [
    "Combine fits only for certain sera:"
   ]
  },
  {
   "cell_type": "code",
   "execution_count": 6,
   "metadata": {
    "execution": {
     "iopub.execute_input": "2023-12-13T22:23:21.470062Z",
     "iopub.status.busy": "2023-12-13T22:23:21.469813Z",
     "iopub.status.idle": "2023-12-13T22:23:21.528967Z",
     "shell.execute_reply": "2023-12-13T22:23:21.528093Z",
     "shell.execute_reply.started": "2023-12-13T22:23:21.470038Z"
    },
    "scrolled": true
   },
   "outputs": [
    {
     "data": {
      "text/html": [
       "<div>\n",
       "<style scoped>\n",
       "    .dataframe tbody tr th:only-of-type {\n",
       "        vertical-align: middle;\n",
       "    }\n",
       "\n",
       "    .dataframe tbody tr th {\n",
       "        vertical-align: top;\n",
       "    }\n",
       "\n",
       "    .dataframe thead th {\n",
       "        text-align: right;\n",
       "    }\n",
       "</style>\n",
       "<table border=\"1\" class=\"dataframe\">\n",
       "  <thead>\n",
       "    <tr style=\"text-align: right;\">\n",
       "      <th></th>\n",
       "      <th>serum</th>\n",
       "      <th>virus</th>\n",
       "      <th>replicate</th>\n",
       "      <th>nreplicates</th>\n",
       "      <th>ic50</th>\n",
       "      <th>ic50_bound</th>\n",
       "      <th>ic50_str</th>\n",
       "      <th>midpoint</th>\n",
       "      <th>slope</th>\n",
       "      <th>top</th>\n",
       "      <th>bottom</th>\n",
       "    </tr>\n",
       "  </thead>\n",
       "  <tbody>\n",
       "    <tr>\n",
       "      <th>0</th>\n",
       "      <td>FI6v3</td>\n",
       "      <td>WT</td>\n",
       "      <td>1</td>\n",
       "      <td>&lt;NA&gt;</td>\n",
       "      <td>0.016702</td>\n",
       "      <td>interpolated</td>\n",
       "      <td>0.0167</td>\n",
       "      <td>0.016702</td>\n",
       "      <td>2.504670</td>\n",
       "      <td>1</td>\n",
       "      <td>0</td>\n",
       "    </tr>\n",
       "    <tr>\n",
       "      <th>1</th>\n",
       "      <td>FI6v3</td>\n",
       "      <td>WT</td>\n",
       "      <td>2</td>\n",
       "      <td>&lt;NA&gt;</td>\n",
       "      <td>0.019020</td>\n",
       "      <td>interpolated</td>\n",
       "      <td>0.019</td>\n",
       "      <td>0.019020</td>\n",
       "      <td>2.512733</td>\n",
       "      <td>1</td>\n",
       "      <td>0</td>\n",
       "    </tr>\n",
       "    <tr>\n",
       "      <th>2</th>\n",
       "      <td>FI6v3</td>\n",
       "      <td>WT</td>\n",
       "      <td>3</td>\n",
       "      <td>&lt;NA&gt;</td>\n",
       "      <td>0.015167</td>\n",
       "      <td>interpolated</td>\n",
       "      <td>0.0152</td>\n",
       "      <td>0.015167</td>\n",
       "      <td>1.877995</td>\n",
       "      <td>1</td>\n",
       "      <td>0</td>\n",
       "    </tr>\n",
       "    <tr>\n",
       "      <th>3</th>\n",
       "      <td>FI6v3</td>\n",
       "      <td>WT</td>\n",
       "      <td>average</td>\n",
       "      <td>3</td>\n",
       "      <td>0.017029</td>\n",
       "      <td>interpolated</td>\n",
       "      <td>0.017</td>\n",
       "      <td>0.017029</td>\n",
       "      <td>2.279316</td>\n",
       "      <td>1</td>\n",
       "      <td>0</td>\n",
       "    </tr>\n",
       "    <tr>\n",
       "      <th>4</th>\n",
       "      <td>FI6v3</td>\n",
       "      <td>P80D</td>\n",
       "      <td>1</td>\n",
       "      <td>&lt;NA&gt;</td>\n",
       "      <td>0.012115</td>\n",
       "      <td>interpolated</td>\n",
       "      <td>0.0121</td>\n",
       "      <td>0.012115</td>\n",
       "      <td>2.024698</td>\n",
       "      <td>1</td>\n",
       "      <td>0</td>\n",
       "    </tr>\n",
       "    <tr>\n",
       "      <th>5</th>\n",
       "      <td>FI6v3</td>\n",
       "      <td>P80D</td>\n",
       "      <td>3</td>\n",
       "      <td>&lt;NA&gt;</td>\n",
       "      <td>0.012835</td>\n",
       "      <td>interpolated</td>\n",
       "      <td>0.0128</td>\n",
       "      <td>0.012835</td>\n",
       "      <td>2.059061</td>\n",
       "      <td>1</td>\n",
       "      <td>0</td>\n",
       "    </tr>\n",
       "    <tr>\n",
       "      <th>6</th>\n",
       "      <td>FI6v3</td>\n",
       "      <td>P80D</td>\n",
       "      <td>average</td>\n",
       "      <td>2</td>\n",
       "      <td>0.012472</td>\n",
       "      <td>interpolated</td>\n",
       "      <td>0.0125</td>\n",
       "      <td>0.012472</td>\n",
       "      <td>2.035435</td>\n",
       "      <td>1</td>\n",
       "      <td>0</td>\n",
       "    </tr>\n",
       "  </tbody>\n",
       "</table>\n",
       "</div>"
      ],
      "text/plain": [
       "   serum virus replicate  nreplicates      ic50    ic50_bound ic50_str  \\\n",
       "0  FI6v3    WT         1         <NA>  0.016702  interpolated   0.0167   \n",
       "1  FI6v3    WT         2         <NA>  0.019020  interpolated    0.019   \n",
       "2  FI6v3    WT         3         <NA>  0.015167  interpolated   0.0152   \n",
       "3  FI6v3    WT   average            3  0.017029  interpolated    0.017   \n",
       "4  FI6v3  P80D         1         <NA>  0.012115  interpolated   0.0121   \n",
       "5  FI6v3  P80D         3         <NA>  0.012835  interpolated   0.0128   \n",
       "6  FI6v3  P80D   average            2  0.012472  interpolated   0.0125   \n",
       "\n",
       "   midpoint     slope  top  bottom  \n",
       "0  0.016702  2.504670    1       0  \n",
       "1  0.019020  2.512733    1       0  \n",
       "2  0.015167  1.877995    1       0  \n",
       "3  0.017029  2.279316    1       0  \n",
       "4  0.012115  2.024698    1       0  \n",
       "5  0.012835  2.059061    1       0  \n",
       "6  0.012472  2.035435    1       0  "
      ]
     },
     "execution_count": 6,
     "metadata": {},
     "output_type": "execute_result"
    }
   ],
   "source": [
    "(\n",
    "    neutcurve.CurveFits.combineCurveFits(\n",
    "        [fit1, fit2],\n",
    "        sera=[\"FI6v3\"],\n",
    "        viruses=[\"WT\", \"P80D\", \"V135T\"],\n",
    "        serum_virus_replicates_to_drop=[\n",
    "            (\"FI6v3\", \"P80D\", \"2\"),\n",
    "            (\"FI6v3\", \"V135T\", \"1\"),\n",
    "            (\"FI6v3\", \"V135T\", \"2\"),\n",
    "            (\"FI6v3\", \"V135T\", \"3\"),\n",
    "        ],\n",
    "    ).fitParams(average_only=False)\n",
    ")"
   ]
  },
  {
   "cell_type": "markdown",
   "metadata": {
    "execution": {
     "iopub.execute_input": "2023-12-13T04:11:10.937777Z",
     "iopub.status.busy": "2023-12-13T04:11:10.937151Z",
     "iopub.status.idle": "2023-12-13T04:11:10.955279Z",
     "shell.execute_reply": "2023-12-13T04:11:10.954532Z",
     "shell.execute_reply.started": "2023-12-13T04:11:10.937726Z"
    }
   },
   "source": [
    "Make sure we cannot combine two fits with overlapping entries, this should give an error due to shared serum/virus/replicates:"
   ]
  },
  {
   "cell_type": "code",
   "execution_count": 7,
   "metadata": {
    "execution": {
     "iopub.execute_input": "2023-12-13T22:23:21.532457Z",
     "iopub.status.busy": "2023-12-13T22:23:21.532252Z",
     "iopub.status.idle": "2023-12-13T22:23:22.126597Z",
     "shell.execute_reply": "2023-12-13T22:23:22.125230Z",
     "shell.execute_reply.started": "2023-12-13T22:23:21.532436Z"
    }
   },
   "outputs": [
    {
     "ename": "ValueError",
     "evalue": "duplicated sera/virus/replicate in `curvefits_list`",
     "output_type": "error",
     "traceback": [
      "\u001b[0;31m---------------------------------------------------------------------------\u001b[0m",
      "\u001b[0;31mValueError\u001b[0m                                Traceback (most recent call last)",
      "Cell \u001b[0;32mIn[7], line 3\u001b[0m\n\u001b[1;32m      1\u001b[0m \u001b[38;5;66;03m# NBVAL_RAISES_EXCEPTION\u001b[39;00m\n\u001b[0;32m----> 3\u001b[0m \u001b[43mneutcurve\u001b[49m\u001b[38;5;241;43m.\u001b[39;49m\u001b[43mCurveFits\u001b[49m\u001b[38;5;241;43m.\u001b[39;49m\u001b[43mcombineCurveFits\u001b[49m\u001b[43m(\u001b[49m\u001b[43m[\u001b[49m\u001b[43mfit1\u001b[49m\u001b[43m,\u001b[49m\u001b[43m \u001b[49m\u001b[43mfit2_invalid\u001b[49m\u001b[43m]\u001b[49m\u001b[43m)\u001b[49m\n",
      "File \u001b[0;32m~/neutcurve/neutcurve/curvefits.py:199\u001b[0m, in \u001b[0;36mCurveFits.combineCurveFits\u001b[0;34m(curvefits_list, sera, viruses, serum_virus_replicates_to_drop)\u001b[0m\n\u001b[1;32m    188\u001b[0m combined_fits\u001b[38;5;241m.\u001b[39mdf \u001b[38;5;241m=\u001b[39m combined_fits\u001b[38;5;241m.\u001b[39m_get_avg_and_stderr_df(combined_fits\u001b[38;5;241m.\u001b[39mdf)\n\u001b[1;32m    189\u001b[0m \u001b[38;5;28;01mif\u001b[39;00m \u001b[38;5;28mlen\u001b[39m(combined_fits\u001b[38;5;241m.\u001b[39mdf) \u001b[38;5;241m!=\u001b[39m \u001b[38;5;28mlen\u001b[39m(\n\u001b[1;32m    190\u001b[0m     combined_fits\u001b[38;5;241m.\u001b[39mdf\u001b[38;5;241m.\u001b[39mgroupby(\n\u001b[1;32m    191\u001b[0m         [\n\u001b[0;32m   (...)\u001b[0m\n\u001b[1;32m    197\u001b[0m     )\n\u001b[1;32m    198\u001b[0m ):\n\u001b[0;32m--> 199\u001b[0m     \u001b[38;5;28;01mraise\u001b[39;00m \u001b[38;5;167;01mValueError\u001b[39;00m(\u001b[38;5;124m\"\u001b[39m\u001b[38;5;124mduplicated sera/virus/replicate in `curvefits_list`\u001b[39m\u001b[38;5;124m\"\u001b[39m)\n\u001b[1;32m    201\u001b[0m \u001b[38;5;66;03m# combine sera\u001b[39;00m\n\u001b[1;32m    202\u001b[0m combined_fits\u001b[38;5;241m.\u001b[39msera \u001b[38;5;241m=\u001b[39m combined_fits\u001b[38;5;241m.\u001b[39mdf[combined_fits\u001b[38;5;241m.\u001b[39mserum_col]\u001b[38;5;241m.\u001b[39munique()\u001b[38;5;241m.\u001b[39mtolist()\n",
      "\u001b[0;31mValueError\u001b[0m: duplicated sera/virus/replicate in `curvefits_list`"
     ]
    }
   ],
   "source": [
    "# NBVAL_RAISES_EXCEPTION\n",
    "\n",
    "neutcurve.CurveFits.combineCurveFits([fit1, fit2_invalid])"
   ]
  }
 ],
 "metadata": {
  "kernelspec": {
   "display_name": "Python 3 (ipykernel)",
   "language": "python",
   "name": "python3"
  },
  "language_info": {
   "codemirror_mode": {
    "name": "ipython",
    "version": 3
   },
   "file_extension": ".py",
   "mimetype": "text/x-python",
   "name": "python",
   "nbconvert_exporter": "python",
   "pygments_lexer": "ipython3",
   "version": "3.11.5"
  }
 },
 "nbformat": 4,
 "nbformat_minor": 4
}
